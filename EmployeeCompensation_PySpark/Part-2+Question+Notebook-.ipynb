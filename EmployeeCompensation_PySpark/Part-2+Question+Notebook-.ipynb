{
 "cells": [
  {
   "cell_type": "markdown",
   "metadata": {
    "id": "dOMqSrk_Q-xH"
   },
   "source": [
    "### Setup the Spark VM and complete the below assignment\n",
    "\n",
    "Objective:- Build a ML model to predict the employee compensation.\n",
    "The application should be modelled using Spark.\n",
    "\n",
    "You can refer to the below links for spark commands:- \n",
    "- https://spark.apache.org/docs/latest/ml-pipeline.html\n",
    "\n",
    "- https://github.com/spark-in-action/first-edition\n",
    "\n",
    "- https://github.com/FavioVazquez/first_spark_model"
   ]
  },
  {
   "cell_type": "markdown",
   "metadata": {
    "application/vnd.databricks.v1+cell": {
     "inputWidgets": {},
     "nuid": "2f9c04dd-cf52-4c53-aecd-bfe96f9529af",
     "showTitle": false,
     "title": ""
    },
    "id": "lAEn9f14QP0a"
   },
   "source": [
    "# Predicting Employee Compensation"
   ]
  },
  {
   "cell_type": "markdown",
   "metadata": {
    "application/vnd.databricks.v1+cell": {
     "inputWidgets": {},
     "nuid": "0ad7374a-5b59-4f1d-9a73-ecdf72f93ffd",
     "showTitle": false,
     "title": ""
    },
    "id": "SsDAS5vxQP0c"
   },
   "source": [
    "## Data Dictionary\n",
    "<br>**Year Type** - Fiscal (July through June) or Calendar (January through December)\n",
    "<br>**Year** - An accounting period of 12 months. The City and County of San Francisco operates on a fiscal year that begins on July 1 and ends on June 30 the following year. The Fiscal Year ending June 30, 2012 is represented as FY2011-2012.\n",
    "<br>**Organization Group Code** - Org Group is a group of Departments. For example, the Public Protection Org Group includes departments such as the Police,Fire, Adult Probation, District Attorney, and Sheriff.\n",
    "<br> **Organization Group** - Org Group is a group of Departments. For example, the Public Protection Org Group includes departments such as the Police,\n",
    "Fire, Adult Probation, District Attorney, and Sheriff.\n",
    "<br>**Department Code** - Departments are the primary organizational unit used by the Cityand County of San Francisco. Examples include Recreation and\n",
    "Parks, Public Works, and the Police Department.\n",
    "<br>**Department Code** - Departments are the primary organizational unit used by the City and County of San Francisco. Examples include Recreation and Parks, Public Works, and the Police Department.\n",
    "<br>**Union Code** - Unions represent employees in collective bargaining agreements. A job belongs to one union, although some jobs are unrepresented (usually temporarily).\n",
    "<br>**Union** - Unions represent employees in collective bargaining agreements. A job belongs to one union, although some jobs are unrepresented (usually temporarily).\n",
    "<br>**Job Family Code** Job Family combines similar Jobs into meaningful groups.\n",
    "<br>**Job Family** Job Family combines similar Jobs into meaningful groups.\n",
    "<br>**Employee Identifier** Each distinct number in the “Employee Identifier” column represents one employee. These identifying numbers are not meaningful but rather are randomly assigned for the purpose of building this dataset. The column does not appear on the\n",
    "Employee Compensation report hosted on openbook.sfgov.org,\n",
    "but that report does show one row for each employee. Employee\n",
    "ID has been included here to allow users to reconstruct the\n",
    "original report. Note that each employee’s identifier will change\n",
    "each time this dataset is updated, so comparisons by employee\n",
    "across multiple versions of the dataset are not possible.\n",
    "<br>**Salaries** - Normal salaries paid to permanent or temporary City employees.\n",
    "<br>**Overtime** - Amounts paid to City employees working in excess of 40 hours\n",
    "per week.\n",
    "<br>**Other Salaries** - Various irregular payments made to City employees including premium pay, incentive pay, or other one-time payments. Total Salary Number The sum of all salaries paid to City employees.\n",
    "<br>**Retirement** City contributions to employee retirement plans.\n",
    "<br>**Health/Dental** City-paid premiums to health and dental insurance plans covering City employees. To protect confidentiality as legally required, pro-rated citywide averages are presented in lieu of employee-specific health and dental benefits.\n",
    "<br>**Other Benefits** Mandatory benefits paid on behalf of employees, such as Social Security (FICA and Medicare) contributions, unemployment\n",
    "insurance premiums, and minor discretionary benefits not included in the above categories.\n",
    "<br>**Total Benefits** The sum of all benefits paid to City employees.\n",
    "<br>**Total Compensation** The sum of all salaries and benefits paid to City employees."
   ]
  },
  {
   "cell_type": "markdown",
   "metadata": {
    "id": "v_3QapC-QP0d"
   },
   "source": [
    "Read the data and answer the following questions to predict employee compensation"
   ]
  },
  {
   "cell_type": "markdown",
   "metadata": {
    "application/vnd.databricks.v1+cell": {
     "inputWidgets": {},
     "nuid": "ffb92bbb-6e3b-46ec-885e-bb4471538c0c",
     "showTitle": false,
     "title": ""
    },
    "id": "_nMVTM8BQP0d"
   },
   "source": [
    "## 1. Read the Data"
   ]
  },
  {
   "cell_type": "code",
   "execution_count": 1,
   "metadata": {
    "id": "PW5bNl6qRY4r"
   },
   "outputs": [],
   "source": [
    "from pyspark.sql import SparkSession\n",
    "from pyspark.ml.feature import VectorAssembler\n",
    "from pyspark.ml.regression import LinearRegression\n",
    "from pyspark.ml.evaluation import RegressionEvaluator\n",
    "from pyspark.sql.types import DoubleType"
   ]
  },
  {
   "cell_type": "code",
   "execution_count": 2,
   "metadata": {
    "id": "oKyTtwSqRY7b"
   },
   "outputs": [
    {
     "name": "stderr",
     "output_type": "stream",
     "text": [
      "23/07/16 13:12:36 WARN Utils: Your hostname, 5CG1165DMB resolves to a loopback address: 127.0.1.1; using 192.168.0.107 instead (on interface wlp0s20f3)\n",
      "23/07/16 13:12:36 WARN Utils: Set SPARK_LOCAL_IP if you need to bind to another address\n",
      "Setting default log level to \"WARN\".\n",
      "To adjust logging level use sc.setLogLevel(newLevel). For SparkR, use setLogLevel(newLevel).\n",
      "23/07/16 13:12:37 WARN NativeCodeLoader: Unable to load native-hadoop library for your platform... using builtin-java classes where applicable\n",
      "23/07/16 13:12:38 WARN Utils: Service 'SparkUI' could not bind on port 4040. Attempting port 4041.\n"
     ]
    }
   ],
   "source": [
    "spark = SparkSession.builder \\\n",
    "    .appName(\"Employee Compensation\") \\\n",
    "    .getOrCreate()"
   ]
  },
  {
   "cell_type": "code",
   "execution_count": 4,
   "metadata": {},
   "outputs": [
    {
     "name": "stderr",
     "output_type": "stream",
     "text": [
      "                                                                                \r"
     ]
    },
    {
     "name": "stdout",
     "output_type": "stream",
     "text": [
      "+---------+----+-----------------------+--------------------+---------------+--------------------+----------+--------------------+---------------+--------------------+--------+--------------------+-------------------+---------+--------+--------------+------------+----------+-------------+--------------+--------------+------------------+\n",
      "|Year Type|Year|Organization Group Code|  Organization Group|Department Code|          Department|Union Code|               Union|Job Family Code|          Job Family|Job Code|                 Job|Employee Identifier| Salaries|Overtime|Other Salaries|Total Salary|Retirement|Health/Dental|Other Benefits|Total Benefits|Total Compensation|\n",
      "+---------+----+-----------------------+--------------------+---------------+--------------------+----------+--------------------+---------------+--------------------+--------+--------------------+-------------------+---------+--------+--------------+------------+----------+-------------+--------------+--------------+------------------+\n",
      "|   Fiscal|2016|                      1|   Public Protection|            DAT|   District Attorney|       311|Municipal Attorne...|           8100|       Legal & Court|    8177|Attorney (Civil/C...|              49919|114473.16|     0.0|        1500.0|   115973.16|  21025.98|      13068.8|       9368.71|      43463.49|         159436.65|\n",
      "| Calendar|2013|                      5|Culture & Recreation|            ART|     Arts Commission|       790|SEIU - Miscellane...|           1800|Budget, Admn & St...|    1844|Senior Management...|               1225| 84077.11|     0.0|           0.0|    84077.11|   16587.3|     12457.73|       6931.91|      35976.94|         120054.05|\n",
      "| Calendar|2015|                      4|    Community Health|            DPH|       Public Health|       535|SEIU - Human Serv...|           2900|      Human Services|    2903|  Eligibility Worker|              34873|  9980.17|     0.0|        798.43|     10778.6|       0.0|      2254.93|        835.11|       3090.04|          13868.64|\n",
      "|   Fiscal|2015|                      4|    Community Health|            DPH|       Public Health|       250|SEIU - Health Wor...|           2200|    Medical & Dental|    2202|         Dental Aide|              51145|  2873.41|     0.0|           0.0|     2873.41|       0.0|       622.63|        222.46|        845.09|            3718.5|\n",
      "|   Fiscal|2014|                      5|Culture & Recreation|            REC|Recreation and Pa...|       790|SEIU - Miscellane...|           3200|          Recreation|    3279|   Recreation Leader|              48705|  6701.85|     0.0|         176.7|     6878.55|       0.0|      2711.66|        538.43|       3250.09|          10128.64|\n",
      "|   Fiscal|2013|                      2|Public Works, Tra...|            DPW|General Services ...|        21|Prof & Tech Engin...|           5300|Sub-Professional ...|    5380|Stdntdsgntrain1, ...|              19801| 45321.18|     0.0|           0.0|    45321.18|   9386.03|      11780.6|       3486.34|      24652.97|          69974.15|\n",
      "|   Fiscal|2015|                      5|Culture & Recreation|            LIB|      Public Library|       790|SEIU - Miscellane...|           3600|             Library|    3610|   Library Assistant|              14135|  28305.5|     0.0|       1193.14|    29498.64|   6616.52|      5793.48|       2430.74|      14840.74|          44339.38|\n",
      "|   Fiscal|2014|                      6|General Administr...|            ASR|   Assessor/Recorder|        21|Prof & Tech Engin...|           4200|Appraisal & Taxation|    4261|Real Property App...|              37352| 39938.09|     0.0|         800.0|    40738.09|   8685.34|      7269.02|       3277.52|      19231.88|          59969.97|\n",
      "| Calendar|2015|                      1|   Public Protection|            POL|              Police|       911|Police Officers' ...|           Q000|     Police Services|    Q060|Lieutenant (Polic...|              13380|  23112.0| 2312.73|      20944.16|    46368.89|   4183.12|      1911.46|         68.84|       6163.42|          52532.31|\n",
      "|   Fiscal|2014|                      1|   Public Protection|            SHF|             Sheriff|       498|Deputy Sheriffs' ...|           8300|Correction & Dete...|    8304|      Deputy Sheriff|              46569| 89101.22| 6856.77|       5563.78|   101521.77|  17596.33|     12512.55|       1627.91|      31736.79|         133258.56|\n",
      "|   Fiscal|2015|                      2|Public Works, Tra...|            AIR|  Airport Commission|       790|SEIU - Miscellane...|           9900| Public Service Aide|    9920|Publ Svc Aide-Ass...|              38170|  7091.33|     0.0|           0.0|     7091.33|       0.0|      2361.82|        549.01|       2910.83|          10002.16|\n",
      "|   Fiscal|2013|                      2|Public Works, Tra...|            DPW|General Services ...|        21|Prof & Tech Engin...|           6200|Public Safety Ins...|    6230|    Street Inspector|              28940| 57467.12|  355.65|           0.0|    57822.77|  11901.38|     11933.98|       4691.34|       28526.7|          86349.47|\n",
      "| Calendar|2015|                      5|Culture & Recreation|            REC|Recreation and Pa...|       261| Laborers, Local 261|           3400|Agriculture & Hor...|    3422|Park Section Supe...|              10817|  80357.0| 5612.97|           7.9|    85977.87|  16562.14|      12424.5|       7091.69|      36078.33|          122056.2|\n",
      "|   Fiscal|2013|                      2|Public Works, Tra...|            MTA|Municipal Transpo...|       253|Transport Workers...|           9100|      Street Transit|    9163|    Transit Operator|              21370| 64170.89|13128.97|       2677.81|    79977.67|  17109.68|     13379.17|       6204.01|      36692.86|         116670.53|\n",
      "|   Fiscal|2016|                      3|Human Welfare & N...|            DSS|      Human Services|        22|Prof & Tech Engin...|           1200|           Personnel|    1241|   Personnel Analyst|              37341| 83038.01|     0.0|         200.0|    83238.01|  15490.62|      13068.8|       6525.06|      35084.48|         118322.49|\n",
      "| Calendar|2014|                      6|General Administr...|            ADM|General Services ...|        16|Theatrical and St...|           1700|Computer Operatns...|    1777|Media/Security Sy...|              34486| 92530.82|     0.0|      13412.58|    105943.4|  20224.21|     13054.94|       8450.17|      41729.32|         147672.72|\n",
      "| Calendar|2015|                      2|Public Works, Tra...|            MTA|Municipal Transpo...|       253|Transport Workers...|           9100|      Street Transit|    9163|    Transit Operator|               4273| 44381.77|11166.58|       2694.49|    58242.84|   13602.2|       8826.1|        4423.7|       26852.0|          85094.84|\n",
      "|   Fiscal|2014|                      2|Public Works, Tra...|            MTA|Municipal Transpo...|       790|SEIU - Miscellane...|           9100|      Street Transit|    9131|Station Agent, Mu...|              13061|  78639.3|20332.03|       7821.87|    106793.2|  17683.84|     12512.54|       8707.07|      38903.45|         145696.65|\n",
      "|   Fiscal|2014|                      1|   Public Protection|            DAT|   District Attorney|       311|Municipal Attorne...|           8100|       Legal & Court|    8177|Attorney (Civil/C...|              10747|176267.41|     0.0|        1250.0|   177517.41|  36959.07|     12512.55|      10479.18|       59950.8|         237468.21|\n",
      "|   Fiscal|2015|                      2|Public Works, Tra...|            WTR|PUC Water Department|        38|Plumbers and Pipe...|           7300|    Journeyman Trade|    7316|Water Service Ins...|              37594|100655.41| 8240.09|      16911.85|   125807.35|  24354.06|     12500.56|       9962.73|      46817.35|          172624.7|\n",
      "+---------+----+-----------------------+--------------------+---------------+--------------------+----------+--------------------+---------------+--------------------+--------+--------------------+-------------------+---------+--------+--------------+------------+----------+-------------+--------------+--------------+------------------+\n",
      "only showing top 20 rows\n",
      "\n"
     ]
    }
   ],
   "source": [
    "data_path = \"Employee_Compensation.csv\"\n",
    "employee_df = spark.read.csv(data_path, header=True, inferSchema=True)\n",
    "# Convert DataFrame into a temporary view\n",
    "employee_df.createOrReplaceTempView(\"employee\")\n",
    "employee_df.show()"
   ]
  },
  {
   "cell_type": "markdown",
   "metadata": {
    "id": "aWQ3YZi0RdP_"
   },
   "source": [
    "### 1.1 Display the number of rows and columns in the dataset"
   ]
  },
  {
   "cell_type": "code",
   "execution_count": 5,
   "metadata": {
    "id": "hdbFw58TRjQd"
   },
   "outputs": [
    {
     "name": "stderr",
     "output_type": "stream",
     "text": [
      "\r",
      "[Stage 3:>                                                          (0 + 8) / 8]\r",
      "\r",
      "[Stage 3:============================================>              (6 + 2) / 8]\r"
     ]
    },
    {
     "name": "stdout",
     "output_type": "stream",
     "text": [
      "Number of rows: 291825\n",
      "Number of columns: 22\n"
     ]
    },
    {
     "name": "stderr",
     "output_type": "stream",
     "text": [
      "\r",
      "                                                                                \r"
     ]
    }
   ],
   "source": [
    "# Count the number of rows\n",
    "num_rows = employee_df.count()\n",
    "print(f\"Number of rows: {num_rows}\")\n",
    "\n",
    "# Count the number of columns\n",
    "num_columns = len(employee_df.columns)\n",
    "print(f\"Number of columns: {num_columns}\")"
   ]
  },
  {
   "cell_type": "markdown",
   "metadata": {
    "id": "cZYaCB4cRjjg"
   },
   "source": [
    "### 1.2 Check the datatype of the variables"
   ]
  },
  {
   "cell_type": "code",
   "execution_count": 6,
   "metadata": {
    "id": "jdPpc_mgRpva"
   },
   "outputs": [
    {
     "name": "stdout",
     "output_type": "stream",
     "text": [
      "Variable: Year Type, Data Type: string\n",
      "Variable: Year, Data Type: int\n",
      "Variable: Organization Group Code, Data Type: int\n",
      "Variable: Organization Group, Data Type: string\n",
      "Variable: Department Code, Data Type: string\n",
      "Variable: Department, Data Type: string\n",
      "Variable: Union Code, Data Type: int\n",
      "Variable: Union, Data Type: string\n",
      "Variable: Job Family Code, Data Type: string\n",
      "Variable: Job Family, Data Type: string\n",
      "Variable: Job Code, Data Type: string\n",
      "Variable: Job, Data Type: string\n",
      "Variable: Employee Identifier, Data Type: int\n",
      "Variable: Salaries, Data Type: double\n",
      "Variable: Overtime, Data Type: double\n",
      "Variable: Other Salaries, Data Type: double\n",
      "Variable: Total Salary, Data Type: double\n",
      "Variable: Retirement, Data Type: double\n",
      "Variable: Health/Dental, Data Type: double\n",
      "Variable: Other Benefits, Data Type: double\n",
      "Variable: Total Benefits, Data Type: double\n",
      "Variable: Total Compensation, Data Type: double\n"
     ]
    }
   ],
   "source": [
    "# Check the data types of the variables\n",
    "variable_types = employee_df.dtypes\n",
    "\n",
    "# Print the variable name and its corresponding data type\n",
    "for variable in variable_types:\n",
    "    print(f\"Variable: {variable[0]}, Data Type: {variable[1]}\")"
   ]
  },
  {
   "cell_type": "markdown",
   "metadata": {
    "id": "re0TB8PAQP0f"
   },
   "source": [
    "### 2. Convert the incorrect column type into its suitable column type. And drop the redundant features"
   ]
  },
  {
   "cell_type": "code",
   "execution_count": 7,
   "metadata": {
    "id": "173LNkp7QP0f"
   },
   "outputs": [
    {
     "name": "stdout",
     "output_type": "stream",
     "text": [
      "Variable: Year, Data Type: string\n",
      "Variable: Organization Group Code, Data Type: string\n",
      "Variable: Organization Group, Data Type: string\n",
      "Variable: Department, Data Type: string\n",
      "Variable: Union Code, Data Type: string\n",
      "Variable: Union, Data Type: string\n",
      "Variable: Job Family, Data Type: string\n",
      "Variable: Job, Data Type: string\n",
      "Variable: Employee Identifier, Data Type: string\n",
      "Variable: Salaries, Data Type: double\n",
      "Variable: Overtime, Data Type: double\n",
      "Variable: Other Salaries, Data Type: double\n",
      "Variable: Total Salary, Data Type: double\n",
      "Variable: Retirement, Data Type: double\n",
      "Variable: Health/Dental, Data Type: double\n",
      "Variable: Other Benefits, Data Type: double\n",
      "Variable: Total Benefits, Data Type: double\n",
      "Variable: Total Compensation, Data Type: double\n"
     ]
    }
   ],
   "source": [
    "# Convert incorrect column types\n",
    "employee_df = employee_df.withColumn(\"Year\", employee_df[1].cast(\"string\"))\n",
    "employee_df = employee_df.withColumn(\"Organization Group Code\", employee_df[3].cast(\"string\"))\n",
    "employee_df = employee_df.withColumn(\"Union Code\", employee_df[7].cast(\"string\"))\n",
    "employee_df = employee_df.withColumn(\"Employee Identifier\", employee_df[13].cast(\"string\"))\n",
    "\n",
    "# Drop redundant features\n",
    "redundant_features = [\"Year Type\", \"Department Code\", \"Job Family Code\", \"Job Code\"]\n",
    "employee_df = employee_df.drop(*redundant_features)\n",
    "\n",
    "# Check the updated data types\n",
    "variable_types = employee_df.dtypes\n",
    "for variable in variable_types:\n",
    "    print(f\"Variable: {variable[0]}, Data Type: {variable[1]}\")"
   ]
  },
  {
   "cell_type": "markdown",
   "metadata": {
    "application/vnd.databricks.v1+cell": {
     "inputWidgets": {},
     "nuid": "28154731-5e40-46a7-b9b3-9444c20c97e8",
     "showTitle": false,
     "title": ""
    },
    "id": "LYYQFu0dQP0g"
   },
   "source": [
    "### 3. Check basic statistics and perform necessary data preprocessing (Like removing negative amount)"
   ]
  },
  {
   "cell_type": "code",
   "execution_count": 8,
   "metadata": {
    "id": "DbrJKqGqQP0g"
   },
   "outputs": [
    {
     "name": "stderr",
     "output_type": "stream",
     "text": [
      "23/07/16 14:43:22 WARN package: Truncated the string representation of a plan since it was too large. This behavior can be adjusted by setting 'spark.sql.debug.maxToStringFields'.\n",
      "[Stage 6:======================>                                    (3 + 5) / 8]\r"
     ]
    },
    {
     "name": "stdout",
     "output_type": "stream",
     "text": [
      "+-------+-----------------+-----------------------+--------------------+-------------------+--------------------+--------------------+--------------------+------------------+-------------------+-----------------+------------------+-----------------+-----------------+------------------+-----------------+-----------------+------------------+------------------+\n",
      "|summary|             Year|Organization Group Code|  Organization Group|         Department|          Union Code|               Union|          Job Family|               Job|Employee Identifier|         Salaries|          Overtime|   Other Salaries|     Total Salary|        Retirement|    Health/Dental|   Other Benefits|    Total Benefits|Total Compensation|\n",
      "+-------+-----------------+-----------------------+--------------------+-------------------+--------------------+--------------------+--------------------+------------------+-------------------+-----------------+------------------+-----------------+-----------------+------------------+-----------------+-----------------+------------------+------------------+\n",
      "|  count|           291825|                 291825|              291825|             291825|              291782|              291782|              291780|            291825|             291825|           291825|            291825|           291825|           291825|            291825|           291825|           291825|            291825|            291825|\n",
      "|   mean|2014.325061252463|                   null|                null|               null|                null|                null|                null|              null|  63210.17288679846|63210.17288679846| 4406.877439766984|3781.032869870656| 71398.0831964368|12937.728957114718|8921.893731723338|4644.276406956207| 26503.89909579372| 97901.98229223008|\n",
      "| stddev|1.032265272549936|                   null|                null|               null|                null|                null|                null|              null|  44660.46230493871|44660.46230493871|11079.405928192713|7697.665317297403|52224.21409875056| 9785.064808401637|4900.318082757249|3787.907010421279|16800.143146559007| 67777.54915227593|\n",
      "|    min|             2013|       Community Health|    Community Health|Academy of Sciences|Automotive Machin...|Automotive Machin...|Administrative & ...|     Account Clerk|              -0.25|        -68771.78|         -12308.66|         -19131.1|        -68771.78|         -30621.43|         -2940.47|         -10636.5|         -21295.15|         -74082.61|\n",
      "|    max|             2016|   Public Works, Tra...|Public Works, Tra...|       War Memorial|Transportation Wo...|Transportation Wo...|Supervisory-Labor...|Youth Comm Advisor|           99998.02|         515101.8|         227313.62|        342802.63|         515101.8|         105052.98|          21872.8|         35157.63|         141043.64|         653498.15|\n",
      "+-------+-----------------+-----------------------+--------------------+-------------------+--------------------+--------------------+--------------------+------------------+-------------------+-----------------+------------------+-----------------+-----------------+------------------+-----------------+-----------------+------------------+------------------+\n",
      "\n"
     ]
    },
    {
     "name": "stderr",
     "output_type": "stream",
     "text": [
      "\r",
      "                                                                                \r"
     ]
    }
   ],
   "source": [
    "from pyspark.sql.functions import col, when\n",
    "\n",
    "# Check basic statistics\n",
    "employee_df.describe().show()\n",
    "\n",
    "# Remove negative amounts\n",
    "employee_df = employee_df.withColumn(\"Salaries\", when(col(\"Salaries\") < 0, 0).otherwise(col(\"Salaries\")))\n",
    "employee_df = employee_df.withColumn(\"Overtime\", when(col(\"Overtime\") < 0, 0).otherwise(col(\"Overtime\")))\n",
    "employee_df = employee_df.withColumn(\"Other Salaries\", when(col(\"Other Salaries\") < 0, 0).otherwise(col(\"Other Salaries\")))\n",
    "employee_df = employee_df.withColumn(\"Total Salary\", when(col(\"Total Salary\") < 0, 0).otherwise(col(\"Total Salary\")))\n",
    "employee_df = employee_df.withColumn(\"Retirement\", when(col(\"Retirement\") < 0, 0).otherwise(col(\"Retirement\")))\n",
    "employee_df = employee_df.withColumn(\"Health/Dental\", when(col(\"Health/Dental\") < 0, 0).otherwise(col(\"Health/Dental\")))\n",
    "employee_df = employee_df.withColumn(\"Other Benefits\", when(col(\"Other Benefits\") < 0, 0).otherwise(col(\"Other Benefits\")))\n",
    "employee_df = employee_df.withColumn(\"Total Benefits\", when(col(\"Total Benefits\") < 0, 0).otherwise(col(\"Total Benefits\")))\n",
    "employee_df = employee_df.withColumn(\"Total Compensation\", when(col(\"Total Compensation\") < 0, 0).otherwise(col(\"Total Compensation\")))\n"
   ]
  },
  {
   "cell_type": "markdown",
   "metadata": {
    "application/vnd.databricks.v1+cell": {
     "inputWidgets": {},
     "nuid": "5b4a36b1-7f14-4a99-851e-492fd8ebb193",
     "showTitle": false,
     "title": ""
    },
    "id": "woI-NVRxQP0g"
   },
   "source": [
    "### 4. Perform Missing Value Analysis"
   ]
  },
  {
   "cell_type": "code",
   "execution_count": 9,
   "metadata": {
    "id": "T7kTJJ_QQP0g"
   },
   "outputs": [
    {
     "name": "stderr",
     "output_type": "stream",
     "text": [
      "\r",
      "[Stage 9:=======>                                                   (1 + 7) / 8]\r",
      "\r",
      "                                                                                \r"
     ]
    },
    {
     "name": "stdout",
     "output_type": "stream",
     "text": [
      "+----+-----------------------+------------------+----------+----------+-----+----------+---+-------------------+--------+--------+--------------+------------+----------+-------------+--------------+--------------+------------------+\n",
      "|Year|Organization Group Code|Organization Group|Department|Union Code|Union|Job Family|Job|Employee Identifier|Salaries|Overtime|Other Salaries|Total Salary|Retirement|Health/Dental|Other Benefits|Total Benefits|Total Compensation|\n",
      "+----+-----------------------+------------------+----------+----------+-----+----------+---+-------------------+--------+--------+--------------+------------+----------+-------------+--------------+--------------+------------------+\n",
      "|   0|                      0|                 0|         0|        43|   43|        45|  0|                  0|       0|       0|             0|           0|         0|            0|             0|             0|                 0|\n",
      "+----+-----------------------+------------------+----------+----------+-----+----------+---+-------------------+--------+--------+--------------+------------+----------+-------------+--------------+--------------+------------------+\n",
      "\n"
     ]
    }
   ],
   "source": [
    "from pyspark.sql.functions import col, sum\n",
    "\n",
    "# Count the number of missing values in each column\n",
    "missing_value_counts = employee_df.agg(*[\n",
    "    sum(col(column).isNull().cast(\"int\")).alias(column)\n",
    "    for column in employee_df.columns\n",
    "])\n",
    "\n",
    "# Display the missing value counts\n",
    "missing_value_counts.show()"
   ]
  },
  {
   "cell_type": "markdown",
   "metadata": {
    "application/vnd.databricks.v1+cell": {
     "inputWidgets": {},
     "nuid": "9cd43cd2-ed88-4edf-ba6f-7e7e6f2f65d1",
     "showTitle": false,
     "title": ""
    },
    "id": "K_KbHnjZQP0g"
   },
   "source": [
    "### 5. Exploratory Data Analysis"
   ]
  },
  {
   "cell_type": "markdown",
   "metadata": {
    "application/vnd.databricks.v1+cell": {
     "inputWidgets": {},
     "nuid": "44aa560c-5c6a-4188-a740-5e49cd147b26",
     "showTitle": false,
     "title": ""
    },
    "id": "5hea56hUQP0h"
   },
   "source": [
    "#### 5.1. Find top compensating organizations. Display using bar plot"
   ]
  },
  {
   "cell_type": "code",
   "execution_count": 10,
   "metadata": {
    "id": "kpaIAoMQQP0h"
   },
   "outputs": [
    {
     "data": {
      "image/png": "[encoded data removed]",
      "text/plain": [
       "<Figure size 720x432 with 1 Axes>"
      ]
     },
     "metadata": {
      "needs_background": "light"
     },
     "output_type": "display_data"
    }
   ],
   "source": [
    "import matplotlib.pyplot as plt\n",
    "\n",
    "# Group by Organization Group and calculate the average total compensation\n",
    "org_compensation = employee_df.groupBy(\"Organization Group\") \\\n",
    "    .agg({\"Total Compensation\": \"mean\"}) \\\n",
    "    .withColumnRenamed(\"avg(Total Compensation)\", \"Average Compensation\") \\\n",
    "    .orderBy(\"Average Compensation\", ascending=False)\n",
    "\n",
    "# Convert the DataFrame to Pandas for visualization\n",
    "org_compensation_pandas = org_compensation.toPandas()\n",
    "\n",
    "# Generate the bar plot\n",
    "plt.figure(figsize=(10, 6))\n",
    "plt.bar(org_compensation_pandas[\"Organization Group\"], org_compensation_pandas[\"Average Compensation\"])\n",
    "plt.xlabel(\"Organization Group\")\n",
    "plt.ylabel(\"Average Compensation\")\n",
    "plt.title(\"Top Compensating Organizations\")\n",
    "plt.xticks(rotation=45)\n",
    "plt.tight_layout()\n",
    "plt.show()\n"
   ]
  },
  {
   "cell_type": "markdown",
   "metadata": {
    "application/vnd.databricks.v1+cell": {
     "inputWidgets": {},
     "nuid": "c991e941-045b-4556-ba17-f9c5454fdf06",
     "showTitle": false,
     "title": ""
    },
    "id": "hijeAEfXQP0h"
   },
   "source": [
    "#### 5.2. Find top Compensating Jobs. Display using bar plot"
   ]
  },
  {
   "cell_type": "code",
   "execution_count": 11,
   "metadata": {
    "id": "AmdpJh5vQP0h"
   },
   "outputs": [
    {
     "name": "stderr",
     "output_type": "stream",
     "text": [
      "                                                                                \r"
     ]
    },
    {
     "data": {
      "image/png": "[encoded data removed]",
      "text/plain": [
       "<Figure size 720x432 with 1 Axes>"
      ]
     },
     "metadata": {
      "needs_background": "light"
     },
     "output_type": "display_data"
    }
   ],
   "source": [
    "import matplotlib.pyplot as plt\n",
    "\n",
    "# Group by Job and calculate the average total compensation\n",
    "job_compensation = employee_df.groupBy(\"Job\") \\\n",
    "    .agg({\"Total Compensation\": \"mean\"}) \\\n",
    "    .withColumnRenamed(\"avg(Total Compensation)\", \"Average Compensation\") \\\n",
    "    .orderBy(\"Average Compensation\", ascending=False)\n",
    "\n",
    "# Convert the DataFrame to Pandas for visualization\n",
    "job_compensation_pandas = job_compensation.toPandas()\n",
    "\n",
    "# Filter the top 10 compensating jobs\n",
    "top_jobs = job_compensation_pandas.head(10)\n",
    "\n",
    "# Generate the bar plot\n",
    "plt.figure(figsize=(10, 6))\n",
    "plt.bar(top_jobs[\"Job\"], top_jobs[\"Average Compensation\"])\n",
    "plt.xlabel(\"Job\")\n",
    "plt.ylabel(\"Average Compensation\")\n",
    "plt.title(\"Top Compensating Jobs\")\n",
    "plt.xticks(rotation=45)\n",
    "plt.tight_layout()\n",
    "plt.show()\n"
   ]
  },
  {
   "cell_type": "markdown",
   "metadata": {
    "application/vnd.databricks.v1+cell": {
     "inputWidgets": {},
     "nuid": "1ffac626-b0f9-45f4-b780-c1c06edf6dd1",
     "showTitle": false,
     "title": ""
    },
    "id": "txsSQSvNQP0h"
   },
   "source": [
    "#### 5.3. Check Correlation of Target Variable with Other Independent Variables. Plot Heatmap"
   ]
  },
  {
   "cell_type": "code",
   "execution_count": 12,
   "metadata": {
    "id": "NFo9Q21lQP0h"
   },
   "outputs": [
    {
     "name": "stderr",
     "output_type": "stream",
     "text": [
      "\r",
      "[Stage 28:>                                                         (0 + 8) / 8]\r",
      "\r",
      "                                                                                \r"
     ]
    },
    {
     "data": {
      "image/png": "[encoded data removed]",
      "text/plain": [
       "<Figure size 720x576 with 2 Axes>"
      ]
     },
     "metadata": {
      "needs_background": "light"
     },
     "output_type": "display_data"
    }
   ],
   "source": [
    "import seaborn as sns\n",
    "import matplotlib.pyplot as plt\n",
    "\n",
    "# Select the independent variables and the target variable\n",
    "selected_columns = [\"Salaries\", \"Overtime\", \"Other Salaries\", \"Total Salary\", \"Retirement\",\n",
    "                    \"Health/Dental\", \"Other Benefits\", \"Total Benefits\", \"Total Compensation\"]\n",
    "selected_data = employee_df.select(*selected_columns)\n",
    "\n",
    "# Compute the correlation matrix\n",
    "correlation_matrix = selected_data.toPandas().corr()\n",
    "\n",
    "# Generate the heatmap\n",
    "plt.figure(figsize=(10, 8))\n",
    "sns.heatmap(correlation_matrix, annot=True, cmap=\"RdYlBu\")\n",
    "plt.title(\"Correlation Heatmap\")\n",
    "plt.show()\n"
   ]
  },
  {
   "cell_type": "markdown",
   "metadata": {
    "application/vnd.databricks.v1+cell": {
     "inputWidgets": {},
     "nuid": "9f43beda-e255-4431-a35a-bb05a1f1e670",
     "showTitle": false,
     "title": ""
    },
    "id": "NiZX_Be8QP0h"
   },
   "source": [
    "### 6. Perform necessary data pre-processing and divide the data into train and test set"
   ]
  },
  {
   "cell_type": "markdown",
   "metadata": {
    "id": "6p5egOcB-VnG"
   },
   "source": [
    "### 6.1 Categorise the attributes into its type (Use one hot encoding wherever required)"
   ]
  },
  {
   "cell_type": "code",
   "execution_count": 15,
   "metadata": {
    "id": "O5SYln1OQP0i"
   },
   "outputs": [
    {
     "name": "stderr",
     "output_type": "stream",
     "text": [
      "                                                                                \r"
     ]
    },
    {
     "name": "stdout",
     "output_type": "stream",
     "text": [
      "+--------------------------+------------------+---------------+------------------+------------------+---------+--------+--------------+------------+----------+-------------+--------------+--------------+------------------+\n",
      "|Organization Group_encoded|Department_encoded|  Union_encoded|Job Family_encoded|       Job_encoded| Salaries|Overtime|Other Salaries|Total Salary|Retirement|Health/Dental|Other Benefits|Total Benefits|Total Compensation|\n",
      "+--------------------------+------------------+---------------+------------------+------------------+---------+--------+--------------+------------+----------+-------------+--------------+--------------+------------------+\n",
      "|             (6,[2],[1.0])|   (53,[19],[1.0])|(72,[15],[1.0])|   (54,[16],[1.0])| (1135,[15],[1.0])|114473.16|     0.0|        1500.0|   115973.16|  21025.98|      13068.8|       9368.71|      43463.49|         159436.65|\n",
      "|             (6,[4],[1.0])|   (53,[43],[1.0])| (72,[0],[1.0])|   (54,[14],[1.0])|(1135,[135],[1.0])| 84077.11|     0.0|           0.0|    84077.11|   16587.3|     12457.73|       6931.91|      35976.94|         120054.05|\n",
      "|             (6,[1],[1.0])|    (53,[0],[1.0])| (72,[6],[1.0])|    (54,[5],[1.0])| (1135,[20],[1.0])|  9980.17|     0.0|        798.43|     10778.6|       0.0|      2254.93|        835.11|       3090.04|          13868.64|\n",
      "|             (6,[1],[1.0])|    (53,[0],[1.0])| (72,[5],[1.0])|   (54,[29],[1.0])|(1135,[331],[1.0])|  2873.41|     0.0|           0.0|     2873.41|       0.0|       622.63|        222.46|        845.09|            3718.5|\n",
      "|             (6,[4],[1.0])|    (53,[4],[1.0])| (72,[0],[1.0])|   (54,[11],[1.0])|  (1135,[8],[1.0])|  6701.85|     0.0|         176.7|     6878.55|       0.0|      2711.66|        538.43|       3250.09|          10128.64|\n",
      "|             (6,[0],[1.0])|    (53,[7],[1.0])| (72,[1],[1.0])|   (54,[23],[1.0])| (1135,[38],[1.0])| 45321.18|     0.0|           0.0|    45321.18|   9386.03|      11780.6|       3486.34|      24652.97|          69974.15|\n",
      "|             (6,[4],[1.0])|   (53,[11],[1.0])| (72,[0],[1.0])|   (54,[19],[1.0])| (1135,[83],[1.0])|  28305.5|     0.0|       1193.14|    29498.64|   6616.52|      5793.48|       2430.74|      14840.74|          44339.38|\n",
      "|             (6,[5],[1.0])|   (53,[29],[1.0])| (72,[1],[1.0])|   (54,[34],[1.0])|(1135,[207],[1.0])| 39938.09|     0.0|         800.0|    40738.09|   8685.34|      7269.02|       3277.52|      19231.88|          59969.97|\n",
      "|             (6,[2],[1.0])|    (53,[3],[1.0])| (72,[3],[1.0])|    (54,[2],[1.0])|(1135,[411],[1.0])|  23112.0| 2312.73|      20944.16|    46368.89|   4183.12|      1911.46|         68.84|       6163.42|          52532.31|\n",
      "|             (6,[2],[1.0])|    (53,[8],[1.0])|(72,[12],[1.0])|   (54,[13],[1.0])| (1135,[11],[1.0])| 89101.22| 6856.77|       5563.78|   101521.77|  17596.33|     12512.55|       1627.91|      31736.79|         133258.56|\n",
      "|             (6,[0],[1.0])|    (53,[5],[1.0])| (72,[0],[1.0])|    (54,[4],[1.0])| (1135,[34],[1.0])|  7091.33|     0.0|           0.0|     7091.33|       0.0|      2361.82|        549.01|       2910.83|          10002.16|\n",
      "|             (6,[0],[1.0])|    (53,[7],[1.0])| (72,[1],[1.0])|   (54,[41],[1.0])|(1135,[290],[1.0])| 57467.12|  355.65|           0.0|    57822.77|  11901.38|     11933.98|       4691.34|       28526.7|          86349.47|\n",
      "|             (6,[4],[1.0])|    (53,[4],[1.0])| (72,[9],[1.0])|   (54,[25],[1.0])|(1135,[205],[1.0])|  80357.0| 5612.97|           7.9|    85977.87|  16562.14|      12424.5|       7091.69|      36078.33|          122056.2|\n",
      "|             (6,[0],[1.0])|    (53,[1],[1.0])| (72,[4],[1.0])|    (54,[1],[1.0])|  (1135,[0],[1.0])| 64170.89|13128.97|       2677.81|    79977.67|  17109.68|     13379.17|       6204.01|      36692.86|         116670.53|\n",
      "|             (6,[3],[1.0])|    (53,[2],[1.0])|(72,[14],[1.0])|   (54,[21],[1.0])| (1135,[76],[1.0])| 83038.01|     0.0|         200.0|    83238.01|  15490.62|      13068.8|       6525.06|      35084.48|         118322.49|\n",
      "|             (6,[5],[1.0])|    (53,[9],[1.0])|(72,[38],[1.0])|   (54,[39],[1.0])|(1135,[649],[1.0])| 92530.82|     0.0|      13412.58|    105943.4|  20224.21|     13054.94|       8450.17|      41729.32|         147672.72|\n",
      "|             (6,[0],[1.0])|    (53,[1],[1.0])| (72,[4],[1.0])|    (54,[1],[1.0])|  (1135,[0],[1.0])| 44381.77|11166.58|       2694.49|    58242.84|   13602.2|       8826.1|        4423.7|       26852.0|          85094.84|\n",
      "|             (6,[0],[1.0])|    (53,[1],[1.0])| (72,[0],[1.0])|    (54,[1],[1.0])|(1135,[147],[1.0])|  78639.3|20332.03|       7821.87|    106793.2|  17683.84|     12512.54|       8707.07|      38903.45|         145696.65|\n",
      "|             (6,[2],[1.0])|   (53,[19],[1.0])|(72,[15],[1.0])|   (54,[16],[1.0])| (1135,[15],[1.0])|176267.41|     0.0|        1250.0|   177517.41|  36959.07|     12512.55|      10479.18|       59950.8|         237468.21|\n",
      "|             (6,[0],[1.0])|   (53,[12],[1.0])|(72,[17],[1.0])|    (54,[3],[1.0])|(1135,[249],[1.0])|100655.41| 8240.09|      16911.85|   125807.35|  24354.06|     12500.56|       9962.73|      46817.35|          172624.7|\n",
      "+--------------------------+------------------+---------------+------------------+------------------+---------+--------+--------------+------------+----------+-------------+--------------+--------------+------------------+\n",
      "only showing top 20 rows\n",
      "\n"
     ]
    }
   ],
   "source": [
    "from pyspark.ml.feature import StringIndexer, OneHotEncoder\n",
    "from pyspark.ml import Pipeline\n",
    "\n",
    "# Categorize attributes into their respective types\n",
    "categorical_cols = [\"Organization Group\", \"Department\", \"Union\", \"Job Family\", \"Job\"]\n",
    "numerical_cols = [\"Salaries\", \"Overtime\", \"Other Salaries\", \"Total Salary\", \"Retirement\",\n",
    "                  \"Health/Dental\", \"Other Benefits\", \"Total Benefits\", \"Total Compensation\"]\n",
    "\n",
    "# Apply StringIndexer on categorical columns\n",
    "indexers = [StringIndexer(inputCol=col, outputCol=col + \"_index\", handleInvalid=\"skip\")\n",
    "            for col in categorical_cols]\n",
    "\n",
    "# Apply OneHotEncoder on indexed categorical columns\n",
    "encoders = [OneHotEncoder(inputCols=[col + \"_index\"], outputCols=[col + \"_encoded\"])\n",
    "            for col in categorical_cols]\n",
    "\n",
    "# Create a pipeline for transformation\n",
    "pipeline = Pipeline(stages=indexers + encoders)\n",
    "categorized_df = pipeline.fit(employee_df).transform(employee_df)\n",
    "\n",
    "# Select the encoded and numerical columns\n",
    "selected_cols = [col + \"_encoded\" for col in categorical_cols] + numerical_cols\n",
    "categorized_df = categorized_df.select(selected_cols)\n",
    "\n",
    "# Display the resulting DataFrame\n",
    "categorized_df.show()\n"
   ]
  },
  {
   "cell_type": "markdown",
   "metadata": {
    "id": "rrGRAFAG-YLX"
   },
   "source": [
    "### 6.2 Split the data into train and test set"
   ]
  },
  {
   "cell_type": "code",
   "execution_count": 16,
   "metadata": {
    "id": "K7phDDJU-sav"
   },
   "outputs": [
    {
     "name": "stderr",
     "output_type": "stream",
     "text": [
      "                                                                                \r"
     ]
    },
    {
     "name": "stdout",
     "output_type": "stream",
     "text": [
      "Train set count: 233725\n"
     ]
    },
    {
     "name": "stderr",
     "output_type": "stream",
     "text": [
      "[Stage 48:===========================================>              (6 + 2) / 8]\r"
     ]
    },
    {
     "name": "stdout",
     "output_type": "stream",
     "text": [
      "Test set count: 58100\n"
     ]
    },
    {
     "name": "stderr",
     "output_type": "stream",
     "text": [
      "\r",
      "                                                                                \r"
     ]
    }
   ],
   "source": [
    "# Split the data into train and test sets\n",
    "train_ratio = 0.8  # Set the ratio for the train set\n",
    "test_ratio = 1 - train_ratio\n",
    "\n",
    "# Perform the split\n",
    "train_data, test_data = employee_df.randomSplit([train_ratio, test_ratio], seed=42)\n",
    "\n",
    "# Print the number of records in each set\n",
    "print(\"Train set count:\", train_data.count())\n",
    "print(\"Test set count:\", test_data.count())\n"
   ]
  },
  {
   "cell_type": "markdown",
   "metadata": {
    "application/vnd.databricks.v1+cell": {
     "inputWidgets": {},
     "nuid": "114ba72f-16e5-4657-bbaf-969596890cca",
     "showTitle": false,
     "title": ""
    },
    "id": "XSZnLJe5QP0i"
   },
   "source": [
    "### 7. Fit Linear Regression model on the data and check its performance"
   ]
  },
  {
   "cell_type": "code",
   "execution_count": 18,
   "metadata": {
    "id": "bjXSlK7OQP0i"
   },
   "outputs": [
    {
     "name": "stderr",
     "output_type": "stream",
     "text": [
      "23/07/16 14:54:33 WARN Instrumentation: [3fc5a4b9] regParam is zero, which might cause numerical instability and overfitting.\n",
      "23/07/16 14:54:34 WARN InstanceBuilder: Failed to load implementation from:dev.ludovic.netlib.blas.JNIBLAS\n",
      "23/07/16 14:54:36 WARN InstanceBuilder: Failed to load implementation from:dev.ludovic.netlib.lapack.JNILAPACK\n",
      "[Stage 55:==============>                                           (2 + 6) / 8]\r"
     ]
    },
    {
     "name": "stdout",
     "output_type": "stream",
     "text": [
      "Root Mean Squared Error (RMSE): 86.4953564636894\n"
     ]
    },
    {
     "name": "stderr",
     "output_type": "stream",
     "text": [
      "\r",
      "                                                                                \r"
     ]
    }
   ],
   "source": [
    "from pyspark.ml.feature import VectorAssembler\n",
    "from pyspark.ml.regression import LinearRegression\n",
    "from pyspark.ml.evaluation import RegressionEvaluator\n",
    "\n",
    "# Define the features and target variable\n",
    "features = [\"Salaries\", \"Overtime\", \"Other Salaries\", \"Total Salary\", \"Retirement\",\n",
    "            \"Health/Dental\", \"Other Benefits\", \"Total Benefits\"]\n",
    "target = \"Total Compensation\"\n",
    "\n",
    "# Create a vector assembler to combine the features into a feature vector column\n",
    "assembler = VectorAssembler(inputCols=features, outputCol=\"features\")\n",
    "\n",
    "# Transform the training and test data using the vector assembler\n",
    "train_data = assembler.transform(train_data)\n",
    "test_data = assembler.transform(test_data)\n",
    "\n",
    "# Create the Linear Regression model\n",
    "lr = LinearRegression(featuresCol=\"features\", labelCol=target)\n",
    "\n",
    "# Fit the model on the training data\n",
    "lr_model = lr.fit(train_data)\n",
    "\n",
    "# Make predictions on the test data\n",
    "predictions = lr_model.transform(test_data)\n",
    "\n",
    "# Evaluate the model's performance\n",
    "evaluator = RegressionEvaluator(labelCol=target, predictionCol=\"prediction\", metricName=\"rmse\")\n",
    "rmse = evaluator.evaluate(predictions)\n",
    "\n",
    "# Print the root mean squared error (RMSE)\n",
    "print(\"Root Mean Squared Error (RMSE):\", rmse)\n"
   ]
  },
  {
   "cell_type": "markdown",
   "metadata": {
    "application/vnd.databricks.v1+cell": {
     "inputWidgets": {},
     "nuid": "51e30540-ef2e-4239-b323-ba406674e87b",
     "showTitle": false,
     "title": ""
    },
    "id": "yb53Fy9yQP0i"
   },
   "source": [
    "### 8. Fit Decision Tree Regression model on the data and check its performance (Optional)"
   ]
  },
  {
   "cell_type": "code",
   "execution_count": null,
   "metadata": {
    "collapsed": true,
    "id": "XVl80s2AQP0i"
   },
   "outputs": [],
   "source": [
    "from pyspark.ml.regression import DecisionTreeRegressor\n",
    "dt = DecisionTreeRegressor(featuresCol ='scaled_features', labelCol = 'Total Compensation')\n",
    "dt_model = dt.fit(trainDF)"
   ]
  },
  {
   "cell_type": "markdown",
   "metadata": {
    "application/vnd.databricks.v1+cell": {
     "inputWidgets": {},
     "nuid": "addb469a-37a3-47e8-8e65-4972a889cc4f",
     "showTitle": false,
     "title": ""
    },
    "id": "NPagi7ftQP0i"
   },
   "source": [
    "### Model Persistence (Optional)\n",
    "Model persistence means saving your model to a disk. After you finalize your model for prediction depending upon the performance, you need to save the model to the disk. Let's say, you finalize 'lrmodel' to be used for in production environment i.e. in your application. We use the following code to save it."
   ]
  },
  {
   "cell_type": "markdown",
   "metadata": {
    "id": "Id1_cG1yb_7n"
   },
   "source": [
    "##### Saving the model"
   ]
  },
  {
   "cell_type": "code",
   "execution_count": null,
   "metadata": {
    "application/vnd.databricks.v1+cell": {
     "inputWidgets": {},
     "nuid": "be6d56cb-e99e-4b37-993b-ef66c9bf7963",
     "showTitle": false,
     "title": ""
    },
    "id": "VHHfHnTgQP0i",
    "outputId": "abf31351-bbb5-4a5f-ced2-6b705a4825e2"
   },
   "outputs": [
    {
     "data": {
      "text/html": [
       "<style scoped>\n",
       "  .ansiout {\n",
       "    display: block;\n",
       "    unicode-bidi: embed;\n",
       "    white-space: pre-wrap;\n",
       "    word-wrap: break-word;\n",
       "    word-break: break-all;\n",
       "    font-family: \"Source Code Pro\", \"Menlo\", monospace;;\n",
       "    font-size: 13px;\n",
       "    color: #555;\n",
       "    margin-left: 4px;\n",
       "    line-height: 19px;\n",
       "  }\n",
       "</style>"
      ]
     },
     "metadata": {
      "application/vnd.databricks.v1+output": {
       "arguments": {},
       "data": "",
       "errorSummary": "",
       "errorTraceType": null,
       "metadata": {},
       "type": "ipynbError"
      }
     },
     "output_type": "display_data"
    }
   ],
   "source": [
    "# use save() method to save the model\n",
    "# write().overwrite() is usually used when you want to replace the older model with a new one\n",
    "# It might happen that you wish to retrain your model and save it at the same the place\n",
    "lrmodel.write().overwrite().save(\"/FileStore/models/lrmodel\")"
   ]
  },
  {
   "cell_type": "markdown",
   "metadata": {
    "id": "VzsuP83tcEVN"
   },
   "source": [
    "##### Loading the model"
   ]
  },
  {
   "cell_type": "code",
   "execution_count": null,
   "metadata": {
    "id": "273mlbIPb8rY"
   },
   "outputs": [],
   "source": [
    "# import PipelineModel from pyspark.ml package\n",
    "from pyspark.ml import PipelineModel\n",
    "\n",
    "# load the model from the location it is stored\n",
    "# The loaded model acts as PipelineModel\n",
    "pipemodel = PipelineModel.load(\"/FileStore/models/lrmodel\")\n",
    "\n",
    "# use the PipelineModel object to perform prediciton on test data. \n",
    "# Use .transform() to perfrom prediction\n",
    "prediction = pipemodel.transform(testDF)\n",
    "\n",
    "# print the results\n",
    "prediction.select('label', 'rawPrediction', 'probability', 'prediction').show(5)"
   ]
  }
 ],
 "metadata": {
  "application/vnd.databricks.v1+notebook": {
   "dashboards": [],
   "language": "python",
   "notebookMetadata": {
    "pythonIndentUnit": 2
   },
   "notebookName": "In-Class Exercise (Spark ML)",
   "notebookOrigID": 3796726700441172,
   "widgets": {}
  },
  "colab": {
   "collapsed_sections": [],
   "name": "Part-2 Question Notebook-.ipynb",
   "provenance": []
  },
  "kernelspec": {
   "display_name": "Python 3 (ipykernel)",
   "language": "python",
   "name": "python3"
  },
  "language_info": {
   "codemirror_mode": {
    "name": "ipython",
    "version": 3
   },
   "file_extension": ".py",
   "mimetype": "text/x-python",
   "name": "python",
   "nbconvert_exporter": "python",
   "pygments_lexer": "ipython3",
   "version": "3.9.7"
  }
 },
 "nbformat": 4,
 "nbformat_minor": 1
}

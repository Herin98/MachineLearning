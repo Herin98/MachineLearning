{
 "cells": [
  {
   "cell_type": "code",
   "execution_count": 1,
   "id": "3fd494c3",
   "metadata": {},
   "outputs": [],
   "source": [
    "import yfinance as yf\n",
    "import pandas as pd\n",
    "import os"
   ]
  },
  {
   "cell_type": "code",
   "execution_count": 2,
   "id": "04e6dfbb",
   "metadata": {},
   "outputs": [],
   "source": [
    "if os.path.exists(\"sp500.csv\"):\n",
    "    sp500 = pd.read_csv(\"sp500.csv\", index_col=0)\n",
    "else:\n",
    "    sp500 = yf.Ticker(\"^GSPC\")\n",
    "    sp500 = sp500.history(period=\"max\")\n",
    "    sp500.to_csv(\"sp500.csv\")"
   ]
  },
  {
   "cell_type": "code",
   "execution_count": 4,
   "id": "41cf211b",
   "metadata": {},
   "outputs": [
    {
     "data": {
      "text/html": [
       "<div>\n",
       "<style scoped>\n",
       "    .dataframe tbody tr th:only-of-type {\n",
       "        vertical-align: middle;\n",
       "    }\n",
       "\n",
       "    .dataframe tbody tr th {\n",
       "        vertical-align: top;\n",
       "    }\n",
       "\n",
       "    .dataframe thead th {\n",
       "        text-align: right;\n",
       "    }\n",
       "</style>\n",
       "<table border=\"1\" class=\"dataframe\">\n",
       "  <thead>\n",
       "    <tr style=\"text-align: right;\">\n",
       "      <th></th>\n",
       "      <th>Open</th>\n",
       "      <th>High</th>\n",
       "      <th>Low</th>\n",
       "      <th>Close</th>\n",
       "      <th>Volume</th>\n",
       "      <th>Dividends</th>\n",
       "      <th>Stock Splits</th>\n",
       "    </tr>\n",
       "    <tr>\n",
       "      <th>Date</th>\n",
       "      <th></th>\n",
       "      <th></th>\n",
       "      <th></th>\n",
       "      <th></th>\n",
       "      <th></th>\n",
       "      <th></th>\n",
       "      <th></th>\n",
       "    </tr>\n",
       "  </thead>\n",
       "  <tbody>\n",
       "    <tr>\n",
       "      <th>1927-12-30 00:00:00-05:00</th>\n",
       "      <td>17.660000</td>\n",
       "      <td>17.660000</td>\n",
       "      <td>17.660000</td>\n",
       "      <td>17.660000</td>\n",
       "      <td>0</td>\n",
       "      <td>0.0</td>\n",
       "      <td>0.0</td>\n",
       "    </tr>\n",
       "    <tr>\n",
       "      <th>1928-01-03 00:00:00-05:00</th>\n",
       "      <td>17.760000</td>\n",
       "      <td>17.760000</td>\n",
       "      <td>17.760000</td>\n",
       "      <td>17.760000</td>\n",
       "      <td>0</td>\n",
       "      <td>0.0</td>\n",
       "      <td>0.0</td>\n",
       "    </tr>\n",
       "    <tr>\n",
       "      <th>1928-01-04 00:00:00-05:00</th>\n",
       "      <td>17.719999</td>\n",
       "      <td>17.719999</td>\n",
       "      <td>17.719999</td>\n",
       "      <td>17.719999</td>\n",
       "      <td>0</td>\n",
       "      <td>0.0</td>\n",
       "      <td>0.0</td>\n",
       "    </tr>\n",
       "    <tr>\n",
       "      <th>1928-01-05 00:00:00-05:00</th>\n",
       "      <td>17.549999</td>\n",
       "      <td>17.549999</td>\n",
       "      <td>17.549999</td>\n",
       "      <td>17.549999</td>\n",
       "      <td>0</td>\n",
       "      <td>0.0</td>\n",
       "      <td>0.0</td>\n",
       "    </tr>\n",
       "    <tr>\n",
       "      <th>1928-01-06 00:00:00-05:00</th>\n",
       "      <td>17.660000</td>\n",
       "      <td>17.660000</td>\n",
       "      <td>17.660000</td>\n",
       "      <td>17.660000</td>\n",
       "      <td>0</td>\n",
       "      <td>0.0</td>\n",
       "      <td>0.0</td>\n",
       "    </tr>\n",
       "    <tr>\n",
       "      <th>...</th>\n",
       "      <td>...</td>\n",
       "      <td>...</td>\n",
       "      <td>...</td>\n",
       "      <td>...</td>\n",
       "      <td>...</td>\n",
       "      <td>...</td>\n",
       "      <td>...</td>\n",
       "    </tr>\n",
       "    <tr>\n",
       "      <th>2024-01-19 00:00:00-05:00</th>\n",
       "      <td>4796.279785</td>\n",
       "      <td>4842.069824</td>\n",
       "      <td>4785.870117</td>\n",
       "      <td>4839.810059</td>\n",
       "      <td>4287200000</td>\n",
       "      <td>0.0</td>\n",
       "      <td>0.0</td>\n",
       "    </tr>\n",
       "    <tr>\n",
       "      <th>2024-01-22 00:00:00-05:00</th>\n",
       "      <td>4853.419922</td>\n",
       "      <td>4868.410156</td>\n",
       "      <td>4844.049805</td>\n",
       "      <td>4850.430176</td>\n",
       "      <td>4297610000</td>\n",
       "      <td>0.0</td>\n",
       "      <td>0.0</td>\n",
       "    </tr>\n",
       "    <tr>\n",
       "      <th>2024-01-23 00:00:00-05:00</th>\n",
       "      <td>4856.799805</td>\n",
       "      <td>4866.479980</td>\n",
       "      <td>4844.370117</td>\n",
       "      <td>4864.600098</td>\n",
       "      <td>3912800000</td>\n",
       "      <td>0.0</td>\n",
       "      <td>0.0</td>\n",
       "    </tr>\n",
       "    <tr>\n",
       "      <th>2024-01-24 00:00:00-05:00</th>\n",
       "      <td>4888.560059</td>\n",
       "      <td>4903.680176</td>\n",
       "      <td>4865.939941</td>\n",
       "      <td>4868.549805</td>\n",
       "      <td>4330030000</td>\n",
       "      <td>0.0</td>\n",
       "      <td>0.0</td>\n",
       "    </tr>\n",
       "    <tr>\n",
       "      <th>2024-01-25 00:00:00-05:00</th>\n",
       "      <td>4886.660156</td>\n",
       "      <td>4898.149902</td>\n",
       "      <td>4869.339844</td>\n",
       "      <td>4894.160156</td>\n",
       "      <td>4020430000</td>\n",
       "      <td>0.0</td>\n",
       "      <td>0.0</td>\n",
       "    </tr>\n",
       "  </tbody>\n",
       "</table>\n",
       "<p>24132 rows × 7 columns</p>\n",
       "</div>"
      ],
      "text/plain": [
       "                                  Open         High          Low        Close  \\\n",
       "Date                                                                            \n",
       "1927-12-30 00:00:00-05:00    17.660000    17.660000    17.660000    17.660000   \n",
       "1928-01-03 00:00:00-05:00    17.760000    17.760000    17.760000    17.760000   \n",
       "1928-01-04 00:00:00-05:00    17.719999    17.719999    17.719999    17.719999   \n",
       "1928-01-05 00:00:00-05:00    17.549999    17.549999    17.549999    17.549999   \n",
       "1928-01-06 00:00:00-05:00    17.660000    17.660000    17.660000    17.660000   \n",
       "...                                ...          ...          ...          ...   \n",
       "2024-01-19 00:00:00-05:00  4796.279785  4842.069824  4785.870117  4839.810059   \n",
       "2024-01-22 00:00:00-05:00  4853.419922  4868.410156  4844.049805  4850.430176   \n",
       "2024-01-23 00:00:00-05:00  4856.799805  4866.479980  4844.370117  4864.600098   \n",
       "2024-01-24 00:00:00-05:00  4888.560059  4903.680176  4865.939941  4868.549805   \n",
       "2024-01-25 00:00:00-05:00  4886.660156  4898.149902  4869.339844  4894.160156   \n",
       "\n",
       "                               Volume  Dividends  Stock Splits  \n",
       "Date                                                            \n",
       "1927-12-30 00:00:00-05:00           0        0.0           0.0  \n",
       "1928-01-03 00:00:00-05:00           0        0.0           0.0  \n",
       "1928-01-04 00:00:00-05:00           0        0.0           0.0  \n",
       "1928-01-05 00:00:00-05:00           0        0.0           0.0  \n",
       "1928-01-06 00:00:00-05:00           0        0.0           0.0  \n",
       "...                               ...        ...           ...  \n",
       "2024-01-19 00:00:00-05:00  4287200000        0.0           0.0  \n",
       "2024-01-22 00:00:00-05:00  4297610000        0.0           0.0  \n",
       "2024-01-23 00:00:00-05:00  3912800000        0.0           0.0  \n",
       "2024-01-24 00:00:00-05:00  4330030000        0.0           0.0  \n",
       "2024-01-25 00:00:00-05:00  4020430000        0.0           0.0  \n",
       "\n",
       "[24132 rows x 7 columns]"
      ]
     },
     "execution_count": 4,
     "metadata": {},
     "output_type": "execute_result"
    }
   ],
   "source": [
    "sp500.index = pd.to_datetime(sp500.index)\n",
    "sp500"
   ]
  },
  {
   "cell_type": "code",
   "execution_count": 5,
   "id": "6128c4b4",
   "metadata": {},
   "outputs": [
    {
     "data": {
      "text/plain": [
       "<AxesSubplot:xlabel='Date'>"
      ]
     },
     "execution_count": 5,
     "metadata": {},
     "output_type": "execute_result"
    },
    {
     "data": {
      "image/png": "[encoded data removed]",
      "text/plain": [
       "<Figure size 432x288 with 1 Axes>"
      ]
     },
     "metadata": {
      "needs_background": "light"
     },
     "output_type": "display_data"
    }
   ],
   "source": [
    "sp500.plot.line(y=\"Close\", use_index=True)"
   ]
  },
  {
   "cell_type": "code",
   "execution_count": 6,
   "id": "718752b3",
   "metadata": {},
   "outputs": [],
   "source": [
    "del sp500[\"Dividends\"]\n",
    "del sp500[\"Stock Splits\"]"
   ]
  },
  {
   "cell_type": "code",
   "execution_count": 7,
   "id": "28208add",
   "metadata": {},
   "outputs": [],
   "source": [
    "sp500[\"Tomorrow\"] = sp500[\"Close\"].shift(-1)"
   ]
  },
  {
   "cell_type": "code",
   "execution_count": 8,
   "id": "d7e63089",
   "metadata": {},
   "outputs": [],
   "source": [
    "sp500[\"Target\"] = (sp500[\"Tomorrow\"] > sp500[\"Close\"]).astype(int)"
   ]
  },
  {
   "cell_type": "code",
   "execution_count": 9,
   "id": "ed900c25",
   "metadata": {},
   "outputs": [],
   "source": [
    "sp500 = sp500.loc[\"1990-01-01\":].copy()"
   ]
  },
  {
   "cell_type": "code",
   "execution_count": 10,
   "id": "f61e34dc",
   "metadata": {},
   "outputs": [
    {
     "name": "stderr",
     "output_type": "stream",
     "text": [
      "/home/heriG/anaconda3/lib/python3.9/site-packages/scipy/__init__.py:146: UserWarning: A NumPy version >=1.16.5 and <1.23.0 is required for this version of SciPy (detected version 1.24.3\n",
      "  warnings.warn(f\"A NumPy version >={np_minversion} and <{np_maxversion}\"\n"
     ]
    },
    {
     "data": {
      "text/plain": [
       "RandomForestClassifier(min_samples_split=100, random_state=1)"
      ]
     },
     "execution_count": 10,
     "metadata": {},
     "output_type": "execute_result"
    }
   ],
   "source": [
    "from sklearn.ensemble import RandomForestClassifier\n",
    "\n",
    "model = RandomForestClassifier(n_estimators=100, min_samples_split=100, random_state=1)\n",
    "\n",
    "train = sp500.iloc[:-100]\n",
    "test = sp500.iloc[-100:]\n",
    "\n",
    "predictors = [\"Close\", \"Volume\", \"Open\", \"High\", \"Low\"]\n",
    "model.fit(train[predictors], train[\"Target\"])"
   ]
  },
  {
   "cell_type": "code",
   "execution_count": 11,
   "id": "ea6fb075",
   "metadata": {},
   "outputs": [
    {
     "data": {
      "text/plain": [
       "0.54"
      ]
     },
     "execution_count": 11,
     "metadata": {},
     "output_type": "execute_result"
    }
   ],
   "source": [
    "from sklearn.metrics import precision_score\n",
    "\n",
    "preds = model.predict(test[predictors])\n",
    "preds = pd.Series(preds, index=test.index)\n",
    "precision_score(test[\"Target\"], preds)"
   ]
  },
  {
   "cell_type": "code",
   "execution_count": 12,
   "id": "6c13a1ae",
   "metadata": {},
   "outputs": [
    {
     "data": {
      "text/plain": [
       "<AxesSubplot:xlabel='Date'>"
      ]
     },
     "execution_count": 12,
     "metadata": {},
     "output_type": "execute_result"
    },
    {
     "data": {
      "image/png": "[encoded data removed]",
      "text/plain": [
       "<Figure size 432x288 with 1 Axes>"
      ]
     },
     "metadata": {
      "needs_background": "light"
     },
     "output_type": "display_data"
    }
   ],
   "source": [
    "combined = pd.concat([test[\"Target\"], preds], axis=1)\n",
    "combined.plot()"
   ]
  },
  {
   "cell_type": "code",
   "execution_count": 13,
   "id": "adbeba84",
   "metadata": {},
   "outputs": [],
   "source": [
    "def predict(train, test, predictors, model):\n",
    "    model.fit(train[predictors], train[\"Target\"])\n",
    "    preds = model.predict(test[predictors])\n",
    "    preds = pd.Series(preds, index=test.index, name=\"Predictions\")\n",
    "    combined = pd.concat([test[\"Target\"], preds], axis=1)\n",
    "    return combined"
   ]
  },
  {
   "cell_type": "code",
   "execution_count": 14,
   "id": "438b90b8",
   "metadata": {},
   "outputs": [],
   "source": [
    "def backtest(data, model, predictors, start=2500, step=250):\n",
    "    all_predictions = []\n",
    "\n",
    "    for i in range(start, data.shape[0], step):\n",
    "        train = data.iloc[0:i].copy()\n",
    "        test = data.iloc[i:(i+step)].copy()\n",
    "        predictions = predict(train, test, predictors, model)\n",
    "        all_predictions.append(predictions)\n",
    "    \n",
    "    return pd.concat(all_predictions)"
   ]
  },
  {
   "cell_type": "code",
   "execution_count": 15,
   "id": "924802a2",
   "metadata": {},
   "outputs": [],
   "source": [
    "predictions = backtest(sp500, model, predictors)"
   ]
  },
  {
   "cell_type": "code",
   "execution_count": 16,
   "id": "512ca68f",
   "metadata": {},
   "outputs": [
    {
     "data": {
      "text/plain": [
       "0    3486\n",
       "1    2596\n",
       "Name: Predictions, dtype: int64"
      ]
     },
     "execution_count": 16,
     "metadata": {},
     "output_type": "execute_result"
    }
   ],
   "source": [
    "predictions[\"Predictions\"].value_counts()"
   ]
  },
  {
   "cell_type": "code",
   "execution_count": 17,
   "id": "05bd54cb",
   "metadata": {},
   "outputs": [
    {
     "data": {
      "text/plain": [
       "0.5288906009244992"
      ]
     },
     "execution_count": 17,
     "metadata": {},
     "output_type": "execute_result"
    }
   ],
   "source": [
    "precision_score(predictions[\"Target\"], predictions[\"Predictions\"])"
   ]
  },
  {
   "cell_type": "code",
   "execution_count": 18,
   "id": "5675a0f7",
   "metadata": {},
   "outputs": [
    {
     "data": {
      "text/plain": [
       "1    0.534693\n",
       "0    0.465307\n",
       "Name: Target, dtype: float64"
      ]
     },
     "execution_count": 18,
     "metadata": {},
     "output_type": "execute_result"
    }
   ],
   "source": [
    "predictions[\"Target\"].value_counts() / predictions.shape[0]"
   ]
  },
  {
   "cell_type": "code",
   "execution_count": 19,
   "id": "4304febd",
   "metadata": {},
   "outputs": [],
   "source": [
    "horizons = [2,5,60,250,1000]\n",
    "new_predictors = []\n",
    "\n",
    "for horizon in horizons:\n",
    "    rolling_averages = sp500.rolling(horizon).mean()\n",
    "    \n",
    "    ratio_column = f\"Close_Ratio_{horizon}\"\n",
    "    sp500[ratio_column] = sp500[\"Close\"] / rolling_averages[\"Close\"]\n",
    "    \n",
    "    trend_column = f\"Trend_{horizon}\"\n",
    "    sp500[trend_column] = sp500.shift(1).rolling(horizon).sum()[\"Target\"]\n",
    "    \n",
    "    new_predictors+= [ratio_column, trend_column]"
   ]
  },
  {
   "cell_type": "code",
   "execution_count": 20,
   "id": "b2e1a0c1",
   "metadata": {},
   "outputs": [
    {
     "data": {
      "text/html": [
       "<div>\n",
       "<style scoped>\n",
       "    .dataframe tbody tr th:only-of-type {\n",
       "        vertical-align: middle;\n",
       "    }\n",
       "\n",
       "    .dataframe tbody tr th {\n",
       "        vertical-align: top;\n",
       "    }\n",
       "\n",
       "    .dataframe thead th {\n",
       "        text-align: right;\n",
       "    }\n",
       "</style>\n",
       "<table border=\"1\" class=\"dataframe\">\n",
       "  <thead>\n",
       "    <tr style=\"text-align: right;\">\n",
       "      <th></th>\n",
       "      <th>Open</th>\n",
       "      <th>High</th>\n",
       "      <th>Low</th>\n",
       "      <th>Close</th>\n",
       "      <th>Volume</th>\n",
       "      <th>Tomorrow</th>\n",
       "      <th>Target</th>\n",
       "      <th>Close_Ratio_2</th>\n",
       "      <th>Trend_2</th>\n",
       "      <th>Close_Ratio_5</th>\n",
       "      <th>Trend_5</th>\n",
       "      <th>Close_Ratio_60</th>\n",
       "      <th>Trend_60</th>\n",
       "      <th>Close_Ratio_250</th>\n",
       "      <th>Trend_250</th>\n",
       "      <th>Close_Ratio_1000</th>\n",
       "      <th>Trend_1000</th>\n",
       "    </tr>\n",
       "    <tr>\n",
       "      <th>Date</th>\n",
       "      <th></th>\n",
       "      <th></th>\n",
       "      <th></th>\n",
       "      <th></th>\n",
       "      <th></th>\n",
       "      <th></th>\n",
       "      <th></th>\n",
       "      <th></th>\n",
       "      <th></th>\n",
       "      <th></th>\n",
       "      <th></th>\n",
       "      <th></th>\n",
       "      <th></th>\n",
       "      <th></th>\n",
       "      <th></th>\n",
       "      <th></th>\n",
       "      <th></th>\n",
       "    </tr>\n",
       "  </thead>\n",
       "  <tbody>\n",
       "    <tr>\n",
       "      <th>1993-12-14 00:00:00-05:00</th>\n",
       "      <td>465.730011</td>\n",
       "      <td>466.119995</td>\n",
       "      <td>462.459991</td>\n",
       "      <td>463.059998</td>\n",
       "      <td>275050000</td>\n",
       "      <td>461.839996</td>\n",
       "      <td>0</td>\n",
       "      <td>0.997157</td>\n",
       "      <td>1.0</td>\n",
       "      <td>0.996617</td>\n",
       "      <td>1.0</td>\n",
       "      <td>1.000283</td>\n",
       "      <td>32.0</td>\n",
       "      <td>1.028047</td>\n",
       "      <td>127.0</td>\n",
       "      <td>1.176082</td>\n",
       "      <td>512.0</td>\n",
       "    </tr>\n",
       "    <tr>\n",
       "      <th>1993-12-15 00:00:00-05:00</th>\n",
       "      <td>463.059998</td>\n",
       "      <td>463.690002</td>\n",
       "      <td>461.839996</td>\n",
       "      <td>461.839996</td>\n",
       "      <td>331770000</td>\n",
       "      <td>463.339996</td>\n",
       "      <td>1</td>\n",
       "      <td>0.998681</td>\n",
       "      <td>0.0</td>\n",
       "      <td>0.995899</td>\n",
       "      <td>1.0</td>\n",
       "      <td>0.997329</td>\n",
       "      <td>32.0</td>\n",
       "      <td>1.025151</td>\n",
       "      <td>126.0</td>\n",
       "      <td>1.172676</td>\n",
       "      <td>512.0</td>\n",
       "    </tr>\n",
       "    <tr>\n",
       "      <th>1993-12-16 00:00:00-05:00</th>\n",
       "      <td>461.859985</td>\n",
       "      <td>463.980011</td>\n",
       "      <td>461.859985</td>\n",
       "      <td>463.339996</td>\n",
       "      <td>284620000</td>\n",
       "      <td>466.380005</td>\n",
       "      <td>1</td>\n",
       "      <td>1.001621</td>\n",
       "      <td>1.0</td>\n",
       "      <td>0.999495</td>\n",
       "      <td>2.0</td>\n",
       "      <td>1.000311</td>\n",
       "      <td>32.0</td>\n",
       "      <td>1.028274</td>\n",
       "      <td>127.0</td>\n",
       "      <td>1.176163</td>\n",
       "      <td>513.0</td>\n",
       "    </tr>\n",
       "    <tr>\n",
       "      <th>1993-12-17 00:00:00-05:00</th>\n",
       "      <td>463.339996</td>\n",
       "      <td>466.380005</td>\n",
       "      <td>463.339996</td>\n",
       "      <td>466.380005</td>\n",
       "      <td>363750000</td>\n",
       "      <td>465.850006</td>\n",
       "      <td>0</td>\n",
       "      <td>1.003270</td>\n",
       "      <td>2.0</td>\n",
       "      <td>1.004991</td>\n",
       "      <td>3.0</td>\n",
       "      <td>1.006561</td>\n",
       "      <td>32.0</td>\n",
       "      <td>1.034781</td>\n",
       "      <td>128.0</td>\n",
       "      <td>1.183537</td>\n",
       "      <td>514.0</td>\n",
       "    </tr>\n",
       "    <tr>\n",
       "      <th>1993-12-20 00:00:00-05:00</th>\n",
       "      <td>466.380005</td>\n",
       "      <td>466.899994</td>\n",
       "      <td>465.529999</td>\n",
       "      <td>465.850006</td>\n",
       "      <td>255900000</td>\n",
       "      <td>465.299988</td>\n",
       "      <td>0</td>\n",
       "      <td>0.999431</td>\n",
       "      <td>1.0</td>\n",
       "      <td>1.003784</td>\n",
       "      <td>2.0</td>\n",
       "      <td>1.005120</td>\n",
       "      <td>32.0</td>\n",
       "      <td>1.033359</td>\n",
       "      <td>128.0</td>\n",
       "      <td>1.181856</td>\n",
       "      <td>513.0</td>\n",
       "    </tr>\n",
       "    <tr>\n",
       "      <th>...</th>\n",
       "      <td>...</td>\n",
       "      <td>...</td>\n",
       "      <td>...</td>\n",
       "      <td>...</td>\n",
       "      <td>...</td>\n",
       "      <td>...</td>\n",
       "      <td>...</td>\n",
       "      <td>...</td>\n",
       "      <td>...</td>\n",
       "      <td>...</td>\n",
       "      <td>...</td>\n",
       "      <td>...</td>\n",
       "      <td>...</td>\n",
       "      <td>...</td>\n",
       "      <td>...</td>\n",
       "      <td>...</td>\n",
       "      <td>...</td>\n",
       "    </tr>\n",
       "    <tr>\n",
       "      <th>2024-01-19 00:00:00-05:00</th>\n",
       "      <td>4796.279785</td>\n",
       "      <td>4842.069824</td>\n",
       "      <td>4785.870117</td>\n",
       "      <td>4839.810059</td>\n",
       "      <td>4287200000</td>\n",
       "      <td>4850.430176</td>\n",
       "      <td>1</td>\n",
       "      <td>1.006119</td>\n",
       "      <td>2.0</td>\n",
       "      <td>1.012099</td>\n",
       "      <td>3.0</td>\n",
       "      <td>1.058888</td>\n",
       "      <td>39.0</td>\n",
       "      <td>1.118437</td>\n",
       "      <td>136.0</td>\n",
       "      <td>1.212935</td>\n",
       "      <td>528.0</td>\n",
       "    </tr>\n",
       "    <tr>\n",
       "      <th>2024-01-22 00:00:00-05:00</th>\n",
       "      <td>4853.419922</td>\n",
       "      <td>4868.410156</td>\n",
       "      <td>4844.049805</td>\n",
       "      <td>4850.430176</td>\n",
       "      <td>4297610000</td>\n",
       "      <td>4864.600098</td>\n",
       "      <td>1</td>\n",
       "      <td>1.001096</td>\n",
       "      <td>2.0</td>\n",
       "      <td>1.011502</td>\n",
       "      <td>3.0</td>\n",
       "      <td>1.058885</td>\n",
       "      <td>39.0</td>\n",
       "      <td>1.120031</td>\n",
       "      <td>136.0</td>\n",
       "      <td>1.215119</td>\n",
       "      <td>528.0</td>\n",
       "    </tr>\n",
       "    <tr>\n",
       "      <th>2024-01-23 00:00:00-05:00</th>\n",
       "      <td>4856.799805</td>\n",
       "      <td>4866.479980</td>\n",
       "      <td>4844.370117</td>\n",
       "      <td>4864.600098</td>\n",
       "      <td>3912800000</td>\n",
       "      <td>4868.549805</td>\n",
       "      <td>1</td>\n",
       "      <td>1.001459</td>\n",
       "      <td>2.0</td>\n",
       "      <td>1.010302</td>\n",
       "      <td>4.0</td>\n",
       "      <td>1.059365</td>\n",
       "      <td>40.0</td>\n",
       "      <td>1.122424</td>\n",
       "      <td>137.0</td>\n",
       "      <td>1.218169</td>\n",
       "      <td>529.0</td>\n",
       "    </tr>\n",
       "    <tr>\n",
       "      <th>2024-01-24 00:00:00-05:00</th>\n",
       "      <td>4888.560059</td>\n",
       "      <td>4903.680176</td>\n",
       "      <td>4865.939941</td>\n",
       "      <td>4868.549805</td>\n",
       "      <td>4330030000</td>\n",
       "      <td>4894.160156</td>\n",
       "      <td>1</td>\n",
       "      <td>1.000406</td>\n",
       "      <td>2.0</td>\n",
       "      <td>1.005719</td>\n",
       "      <td>5.0</td>\n",
       "      <td>1.057419</td>\n",
       "      <td>41.0</td>\n",
       "      <td>1.122453</td>\n",
       "      <td>138.0</td>\n",
       "      <td>1.218664</td>\n",
       "      <td>529.0</td>\n",
       "    </tr>\n",
       "    <tr>\n",
       "      <th>2024-01-25 00:00:00-05:00</th>\n",
       "      <td>4886.660156</td>\n",
       "      <td>4898.149902</td>\n",
       "      <td>4869.339844</td>\n",
       "      <td>4894.160156</td>\n",
       "      <td>4020430000</td>\n",
       "      <td>NaN</td>\n",
       "      <td>0</td>\n",
       "      <td>1.002623</td>\n",
       "      <td>2.0</td>\n",
       "      <td>1.006302</td>\n",
       "      <td>5.0</td>\n",
       "      <td>1.060001</td>\n",
       "      <td>42.0</td>\n",
       "      <td>1.127490</td>\n",
       "      <td>138.0</td>\n",
       "      <td>1.224585</td>\n",
       "      <td>529.0</td>\n",
       "    </tr>\n",
       "  </tbody>\n",
       "</table>\n",
       "<p>7582 rows × 17 columns</p>\n",
       "</div>"
      ],
      "text/plain": [
       "                                  Open         High          Low        Close  \\\n",
       "Date                                                                            \n",
       "1993-12-14 00:00:00-05:00   465.730011   466.119995   462.459991   463.059998   \n",
       "1993-12-15 00:00:00-05:00   463.059998   463.690002   461.839996   461.839996   \n",
       "1993-12-16 00:00:00-05:00   461.859985   463.980011   461.859985   463.339996   \n",
       "1993-12-17 00:00:00-05:00   463.339996   466.380005   463.339996   466.380005   \n",
       "1993-12-20 00:00:00-05:00   466.380005   466.899994   465.529999   465.850006   \n",
       "...                                ...          ...          ...          ...   \n",
       "2024-01-19 00:00:00-05:00  4796.279785  4842.069824  4785.870117  4839.810059   \n",
       "2024-01-22 00:00:00-05:00  4853.419922  4868.410156  4844.049805  4850.430176   \n",
       "2024-01-23 00:00:00-05:00  4856.799805  4866.479980  4844.370117  4864.600098   \n",
       "2024-01-24 00:00:00-05:00  4888.560059  4903.680176  4865.939941  4868.549805   \n",
       "2024-01-25 00:00:00-05:00  4886.660156  4898.149902  4869.339844  4894.160156   \n",
       "\n",
       "                               Volume     Tomorrow  Target  Close_Ratio_2  \\\n",
       "Date                                                                        \n",
       "1993-12-14 00:00:00-05:00   275050000   461.839996       0       0.997157   \n",
       "1993-12-15 00:00:00-05:00   331770000   463.339996       1       0.998681   \n",
       "1993-12-16 00:00:00-05:00   284620000   466.380005       1       1.001621   \n",
       "1993-12-17 00:00:00-05:00   363750000   465.850006       0       1.003270   \n",
       "1993-12-20 00:00:00-05:00   255900000   465.299988       0       0.999431   \n",
       "...                               ...          ...     ...            ...   \n",
       "2024-01-19 00:00:00-05:00  4287200000  4850.430176       1       1.006119   \n",
       "2024-01-22 00:00:00-05:00  4297610000  4864.600098       1       1.001096   \n",
       "2024-01-23 00:00:00-05:00  3912800000  4868.549805       1       1.001459   \n",
       "2024-01-24 00:00:00-05:00  4330030000  4894.160156       1       1.000406   \n",
       "2024-01-25 00:00:00-05:00  4020430000          NaN       0       1.002623   \n",
       "\n",
       "                           Trend_2  Close_Ratio_5  Trend_5  Close_Ratio_60  \\\n",
       "Date                                                                         \n",
       "1993-12-14 00:00:00-05:00      1.0       0.996617      1.0        1.000283   \n",
       "1993-12-15 00:00:00-05:00      0.0       0.995899      1.0        0.997329   \n",
       "1993-12-16 00:00:00-05:00      1.0       0.999495      2.0        1.000311   \n",
       "1993-12-17 00:00:00-05:00      2.0       1.004991      3.0        1.006561   \n",
       "1993-12-20 00:00:00-05:00      1.0       1.003784      2.0        1.005120   \n",
       "...                            ...            ...      ...             ...   \n",
       "2024-01-19 00:00:00-05:00      2.0       1.012099      3.0        1.058888   \n",
       "2024-01-22 00:00:00-05:00      2.0       1.011502      3.0        1.058885   \n",
       "2024-01-23 00:00:00-05:00      2.0       1.010302      4.0        1.059365   \n",
       "2024-01-24 00:00:00-05:00      2.0       1.005719      5.0        1.057419   \n",
       "2024-01-25 00:00:00-05:00      2.0       1.006302      5.0        1.060001   \n",
       "\n",
       "                           Trend_60  Close_Ratio_250  Trend_250  \\\n",
       "Date                                                              \n",
       "1993-12-14 00:00:00-05:00      32.0         1.028047      127.0   \n",
       "1993-12-15 00:00:00-05:00      32.0         1.025151      126.0   \n",
       "1993-12-16 00:00:00-05:00      32.0         1.028274      127.0   \n",
       "1993-12-17 00:00:00-05:00      32.0         1.034781      128.0   \n",
       "1993-12-20 00:00:00-05:00      32.0         1.033359      128.0   \n",
       "...                             ...              ...        ...   \n",
       "2024-01-19 00:00:00-05:00      39.0         1.118437      136.0   \n",
       "2024-01-22 00:00:00-05:00      39.0         1.120031      136.0   \n",
       "2024-01-23 00:00:00-05:00      40.0         1.122424      137.0   \n",
       "2024-01-24 00:00:00-05:00      41.0         1.122453      138.0   \n",
       "2024-01-25 00:00:00-05:00      42.0         1.127490      138.0   \n",
       "\n",
       "                           Close_Ratio_1000  Trend_1000  \n",
       "Date                                                     \n",
       "1993-12-14 00:00:00-05:00          1.176082       512.0  \n",
       "1993-12-15 00:00:00-05:00          1.172676       512.0  \n",
       "1993-12-16 00:00:00-05:00          1.176163       513.0  \n",
       "1993-12-17 00:00:00-05:00          1.183537       514.0  \n",
       "1993-12-20 00:00:00-05:00          1.181856       513.0  \n",
       "...                                     ...         ...  \n",
       "2024-01-19 00:00:00-05:00          1.212935       528.0  \n",
       "2024-01-22 00:00:00-05:00          1.215119       528.0  \n",
       "2024-01-23 00:00:00-05:00          1.218169       529.0  \n",
       "2024-01-24 00:00:00-05:00          1.218664       529.0  \n",
       "2024-01-25 00:00:00-05:00          1.224585       529.0  \n",
       "\n",
       "[7582 rows x 17 columns]"
      ]
     },
     "execution_count": 20,
     "metadata": {},
     "output_type": "execute_result"
    }
   ],
   "source": [
    "sp500 = sp500.dropna(subset=sp500.columns[sp500.columns != \"Tomorrow\"])\n",
    "sp500"
   ]
  },
  {
   "cell_type": "code",
   "execution_count": 21,
   "id": "c06ad14a",
   "metadata": {},
   "outputs": [],
   "source": [
    "model = RandomForestClassifier(n_estimators=200, min_samples_split=50, random_state=1)"
   ]
  },
  {
   "cell_type": "code",
   "execution_count": 22,
   "id": "704d6354",
   "metadata": {},
   "outputs": [],
   "source": [
    "def predict(train, test, predictors, model):\n",
    "    model.fit(train[predictors], train[\"Target\"])\n",
    "    preds = model.predict_proba(test[predictors])[:,1]\n",
    "    preds[preds >=.6] = 1\n",
    "    preds[preds <.6] = 0\n",
    "    preds = pd.Series(preds, index=test.index, name=\"Predictions\")\n",
    "    combined = pd.concat([test[\"Target\"], preds], axis=1)\n",
    "    return combined"
   ]
  },
  {
   "cell_type": "code",
   "execution_count": 23,
   "id": "a19ed8aa",
   "metadata": {},
   "outputs": [
    {
     "data": {
      "text/plain": [
       "0.0    4250\n",
       "1.0     832\n",
       "Name: Predictions, dtype: int64"
      ]
     },
     "execution_count": 23,
     "metadata": {},
     "output_type": "execute_result"
    }
   ],
   "source": [
    "predictions = backtest(sp500, model, new_predictors)\n",
    "predictions[\"Predictions\"].value_counts()"
   ]
  },
  {
   "cell_type": "code",
   "execution_count": 24,
   "id": "52885d4b",
   "metadata": {},
   "outputs": [
    {
     "data": {
      "text/plain": [
       "0.5733173076923077"
      ]
     },
     "execution_count": 24,
     "metadata": {},
     "output_type": "execute_result"
    }
   ],
   "source": [
    "precision_score(predictions[\"Target\"], predictions[\"Predictions\"])"
   ]
  },
  {
   "cell_type": "code",
   "execution_count": 25,
   "id": "153b5746",
   "metadata": {},
   "outputs": [
    {
     "data": {
      "text/plain": [
       "1    0.544471\n",
       "0    0.455529\n",
       "Name: Target, dtype: float64"
      ]
     },
     "execution_count": 25,
     "metadata": {},
     "output_type": "execute_result"
    }
   ],
   "source": [
    "predictions[\"Target\"].value_counts() / predictions.shape[0]"
   ]
  },
  {
   "cell_type": "code",
   "execution_count": 26,
   "id": "25d78af6",
   "metadata": {},
   "outputs": [
    {
     "data": {
      "text/html": [
       "<div>\n",
       "<style scoped>\n",
       "    .dataframe tbody tr th:only-of-type {\n",
       "        vertical-align: middle;\n",
       "    }\n",
       "\n",
       "    .dataframe tbody tr th {\n",
       "        vertical-align: top;\n",
       "    }\n",
       "\n",
       "    .dataframe thead th {\n",
       "        text-align: right;\n",
       "    }\n",
       "</style>\n",
       "<table border=\"1\" class=\"dataframe\">\n",
       "  <thead>\n",
       "    <tr style=\"text-align: right;\">\n",
       "      <th></th>\n",
       "      <th>Target</th>\n",
       "      <th>Predictions</th>\n",
       "    </tr>\n",
       "    <tr>\n",
       "      <th>Date</th>\n",
       "      <th></th>\n",
       "      <th></th>\n",
       "    </tr>\n",
       "  </thead>\n",
       "  <tbody>\n",
       "    <tr>\n",
       "      <th>2003-11-14 00:00:00-05:00</th>\n",
       "      <td>0</td>\n",
       "      <td>0.0</td>\n",
       "    </tr>\n",
       "    <tr>\n",
       "      <th>2003-11-17 00:00:00-05:00</th>\n",
       "      <td>0</td>\n",
       "      <td>1.0</td>\n",
       "    </tr>\n",
       "    <tr>\n",
       "      <th>2003-11-18 00:00:00-05:00</th>\n",
       "      <td>1</td>\n",
       "      <td>1.0</td>\n",
       "    </tr>\n",
       "    <tr>\n",
       "      <th>2003-11-19 00:00:00-05:00</th>\n",
       "      <td>0</td>\n",
       "      <td>0.0</td>\n",
       "    </tr>\n",
       "    <tr>\n",
       "      <th>2003-11-20 00:00:00-05:00</th>\n",
       "      <td>1</td>\n",
       "      <td>1.0</td>\n",
       "    </tr>\n",
       "    <tr>\n",
       "      <th>...</th>\n",
       "      <td>...</td>\n",
       "      <td>...</td>\n",
       "    </tr>\n",
       "    <tr>\n",
       "      <th>2024-01-19 00:00:00-05:00</th>\n",
       "      <td>1</td>\n",
       "      <td>0.0</td>\n",
       "    </tr>\n",
       "    <tr>\n",
       "      <th>2024-01-22 00:00:00-05:00</th>\n",
       "      <td>1</td>\n",
       "      <td>0.0</td>\n",
       "    </tr>\n",
       "    <tr>\n",
       "      <th>2024-01-23 00:00:00-05:00</th>\n",
       "      <td>1</td>\n",
       "      <td>0.0</td>\n",
       "    </tr>\n",
       "    <tr>\n",
       "      <th>2024-01-24 00:00:00-05:00</th>\n",
       "      <td>1</td>\n",
       "      <td>0.0</td>\n",
       "    </tr>\n",
       "    <tr>\n",
       "      <th>2024-01-25 00:00:00-05:00</th>\n",
       "      <td>0</td>\n",
       "      <td>0.0</td>\n",
       "    </tr>\n",
       "  </tbody>\n",
       "</table>\n",
       "<p>5082 rows × 2 columns</p>\n",
       "</div>"
      ],
      "text/plain": [
       "                           Target  Predictions\n",
       "Date                                          \n",
       "2003-11-14 00:00:00-05:00       0          0.0\n",
       "2003-11-17 00:00:00-05:00       0          1.0\n",
       "2003-11-18 00:00:00-05:00       1          1.0\n",
       "2003-11-19 00:00:00-05:00       0          0.0\n",
       "2003-11-20 00:00:00-05:00       1          1.0\n",
       "...                           ...          ...\n",
       "2024-01-19 00:00:00-05:00       1          0.0\n",
       "2024-01-22 00:00:00-05:00       1          0.0\n",
       "2024-01-23 00:00:00-05:00       1          0.0\n",
       "2024-01-24 00:00:00-05:00       1          0.0\n",
       "2024-01-25 00:00:00-05:00       0          0.0\n",
       "\n",
       "[5082 rows x 2 columns]"
      ]
     },
     "execution_count": 26,
     "metadata": {},
     "output_type": "execute_result"
    }
   ],
   "source": [
    "predictions"
   ]
  },
  {
   "cell_type": "code",
   "execution_count": null,
   "id": "62049706",
   "metadata": {},
   "outputs": [],
   "source": []
  }
 ],
 "metadata": {
  "kernelspec": {
   "display_name": "Python 3 (ipykernel)",
   "language": "python",
   "name": "python3"
  },
  "language_info": {
   "codemirror_mode": {
    "name": "ipython",
    "version": 3
   },
   "file_extension": ".py",
   "mimetype": "text/x-python",
   "name": "python",
   "nbconvert_exporter": "python",
   "pygments_lexer": "ipython3",
   "version": "3.9.7"
  }
 },
 "nbformat": 4,
 "nbformat_minor": 5
}
